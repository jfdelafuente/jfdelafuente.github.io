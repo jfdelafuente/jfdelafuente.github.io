{
  "cells": [
    {
      "cell_type": "markdown",
      "metadata": {
        "id": "2WWA4O5Ppqj4"
      },
      "source": [
        "The basic steps we'll take are:\n",
        "\n",
        "1. Use DuckDuckGo to search for images of \"dogs photos\".\n",
        "2. Fine-tune a pretrained neural network to recognise these two groups\n",
        "3. Try running this model on a picture of a bird and see if it works."
      ]
    },
    {
      "cell_type": "code",
      "execution_count": null,
      "metadata": {
        "colab": {
          "base_uri": "https://localhost:8080/"
        },
        "id": "hchW5XAM9RqA",
        "outputId": "7b7bad53-50aa-4360-9232-9b5e9167d7ad"
      },
      "outputs": [],
      "source": [
        "%pip install -Uqq fastbook\n",
        "import fastbook\n",
        "fastbook.setup_book()"
      ]
    },
    {
      "cell_type": "code",
      "execution_count": null,
      "metadata": {
        "id": "hinNJgqXRuHI"
      },
      "outputs": [],
      "source": [
        "# help(fastbook)"
      ]
    },
    {
      "cell_type": "code",
      "execution_count": null,
      "metadata": {
        "id": "mKL-ZbjilNDo"
      },
      "outputs": [],
      "source": [
        "from fastbook import *"
      ]
    },
    {
      "cell_type": "code",
      "execution_count": null,
      "metadata": {
        "id": "xY6jSbanmqbz"
      },
      "outputs": [],
      "source": [
        "# !pip install -Uqq duckduckgo_search"
      ]
    },
    {
      "cell_type": "markdown",
      "metadata": {
        "id": "QqiYyGnD4oiL"
      },
      "source": [
        "## Step 1: Download images of dogs"
      ]
    },
    {
      "cell_type": "code",
      "execution_count": null,
      "metadata": {
        "id": "sa6TH9Bxmb3O"
      },
      "outputs": [],
      "source": [
        "# from duckduckgo_search import DDGS\n",
        "# from fastcore.all import *\n",
        "\n",
        "# ddgs = DDGS()\n",
        "\n",
        "# def search_images(term, max_images=30):\n",
        "#     print(f\"Searching for '{term}'\")\n",
        "#     return L(ddgs.images(term, max_results=max_images)).itemgot('image')"
      ]
    },
    {
      "cell_type": "code",
      "execution_count": null,
      "metadata": {
        "colab": {
          "base_uri": "https://localhost:8080/"
        },
        "id": "iCQ7wcWgnYe2",
        "outputId": "e581404c-fea3-438f-b6d9-c6a32431a595"
      },
      "outputs": [],
      "source": [
        "from fastbook import search_images_ddg\n",
        "\n",
        "results = search_images_ddg('german shepherd dogs', max_images=1)\n",
        "images = results.attrgot('content_url')\n",
        "len(images)\n",
        "results"
      ]
    },
    {
      "cell_type": "code",
      "execution_count": null,
      "metadata": {
        "colab": {
          "base_uri": "https://localhost:8080/"
        },
        "id": "MSsNrVZfpnAb",
        "outputId": "bcd6d933-3e61-463d-b665-e17ef1a2ccda"
      },
      "outputs": [],
      "source": [
        "from fastdownload import download_url\n",
        "dest = 'images/dogs.jpg'\n",
        "download_url(results[0], dest, show_progress=False)"
      ]
    },
    {
      "cell_type": "code",
      "execution_count": null,
      "metadata": {
        "id": "Gjp2TpMSpJU0"
      },
      "outputs": [],
      "source": [
        "dog_types = ['german shepherd', 'black', 'labrador']\n",
        "path = Path('dogs')"
      ]
    },
    {
      "cell_type": "code",
      "execution_count": null,
      "metadata": {
        "colab": {
          "base_uri": "https://localhost:8080/"
        },
        "id": "tHg25ShRpL_q",
        "outputId": "cff87f44-df58-4d88-f8bf-2bc56118a5db"
      },
      "outputs": [],
      "source": [
        "if not path.exists():\n",
        "    path.mkdir()\n",
        "    for t in dog_types:\n",
        "        dest = (path/t)\n",
        "        print(dest)\n",
        "        dest.mkdir(exist_ok=True)\n",
        "        results = search_images_ddg(f'{t} dog')\n",
        "        download_images(dest, urls=results)"
      ]
    },
    {
      "cell_type": "code",
      "execution_count": null,
      "metadata": {
        "colab": {
          "base_uri": "https://localhost:8080/"
        },
        "id": "_xIKNv5jsUaC",
        "outputId": "a1982169-6961-49d3-bc49-24e0b8facd8c"
      },
      "outputs": [],
      "source": [
        "files = get_image_files(path)\n",
        "files"
      ]
    },
    {
      "cell_type": "code",
      "execution_count": null,
      "metadata": {
        "colab": {
          "base_uri": "https://localhost:8080/"
        },
        "id": "A6zHaig8sb2C",
        "outputId": "806a1752-0ef3-49a8-822b-45ba5701eb94"
      },
      "outputs": [],
      "source": [
        "corrupt = verify_images(files)\n",
        "corrupt"
      ]
    },
    {
      "cell_type": "code",
      "execution_count": null,
      "metadata": {
        "id": "Q50jJsxIskIi"
      },
      "outputs": [],
      "source": [
        "corrupt.map(Path.unlink);"
      ]
    },
    {
      "cell_type": "markdown",
      "metadata": {
        "id": "73sBseYJsrRf"
      },
      "source": [
        "## Step 2: Train our model"
      ]
    },
    {
      "cell_type": "markdown",
      "metadata": {
        "id": "OW2irIhYrskh"
      },
      "source": [
        "Para convertir nuestros datos descargados en un objeto DataLoaders, debemos decirle a fastai al menos cuatro cosas:\n",
        "\n",
        "- ¿Con qué tipo de datos estamos trabajando?\n",
        "- Cómo obtener la lista de artículos\n",
        "- Cómo etiquetar estos artículos\n",
        "- Cómo crear el conjunto de validación"
      ]
    },
    {
      "cell_type": "code",
      "execution_count": null,
      "metadata": {
        "id": "Tc8HpxD7s1PS"
      },
      "outputs": [],
      "source": [
        "dogs = DataBlock(\n",
        "    blocks=(ImageBlock, CategoryBlock),\n",
        "    get_items=get_image_files,\n",
        "    splitter=RandomSplitter(valid_pct=0.2, seed=42),\n",
        "    get_y=parent_label,\n",
        "    item_tfms=Resize(128))"
      ]
    },
    {
      "cell_type": "code",
      "execution_count": null,
      "metadata": {
        "id": "81qZZqu8s-el"
      },
      "outputs": [],
      "source": [
        "dls = dogs.dataloaders(path)"
      ]
    },
    {
      "cell_type": "code",
      "execution_count": null,
      "metadata": {
        "colab": {
          "base_uri": "https://localhost:8080/",
          "height": 262
        },
        "id": "7BxM0pnltHk7",
        "outputId": "6f41e250-ce40-4c0f-bad4-8e7566125c14"
      },
      "outputs": [],
      "source": [
        "dls.valid.show_batch(max_n=4, nrows=1)"
      ]
    },
    {
      "cell_type": "markdown",
      "metadata": {
        "id": "xeWm-Y1qIz8b"
      },
      "source": [
        "### Resize"
      ]
    },
    {
      "cell_type": "markdown",
      "metadata": {
        "id": "ubE4VITwqWTp"
      },
      "source": [
        "De forma predeterminada, Cambiar tamaño recorta las imágenes para que se ajusten a una forma cuadrada del tamaño solicitado, utilizando todo el ancho o alto. Esto puede provocar la pérdida de algunos detalles importantes. Alternativamente, puedes pedirle a fastai que rellene las imágenes con ceros (negro), o que las aplaste/estire:"
      ]
    },
    {
      "cell_type": "code",
      "execution_count": null,
      "metadata": {
        "id": "KiUYTrv5q3u6"
      },
      "outputs": [],
      "source": [
        "dogs = dogs.new(item_tfms=Resize(128, ResizeMethod.Squish))\n",
        "dls = dogs.dataloaders(path)\n",
        "dls.valid.show_batch(max_n=4, nrows=1)"
      ]
    },
    {
      "cell_type": "markdown",
      "metadata": {
        "id": "OimP8Mm_qkKA"
      },
      "source": [
        "Aquí hay otro ejemplo en el que reemplazamos Resize con RandomResizedCrop, que es la transformación que proporciona el comportamiento que acabamos de describir. El parámetro más importante a pasar es min_scale, que determina qué parte de la imagen seleccionar como mínimo cada vez:"
      ]
    },
    {
      "cell_type": "code",
      "execution_count": null,
      "metadata": {
        "colab": {
          "base_uri": "https://localhost:8080/",
          "height": 262
        },
        "id": "H5etE7qBJA5d",
        "outputId": "fa285021-a5d4-43b7-e024-af863f1d835c"
      },
      "outputs": [],
      "source": [
        "dogs = dogs.new(item_tfms=RandomResizedCrop(128, min_scale=0.3))\n",
        "dls = dogs.dataloaders(path)\n",
        "dls.train.show_batch(max_n=4, nrows=1, unique=True)"
      ]
    },
    {
      "cell_type": "markdown",
      "metadata": {
        "id": "4J7A-Vj8tV6j"
      },
      "source": [
        "### Data Augmentation"
      ]
    },
    {
      "cell_type": "markdown",
      "metadata": {
        "id": "gpXcWdTDrENk"
      },
      "source": [
        "El aumento de datos se refiere a la creación de variaciones aleatorias de nuestros datos de entrada, de modo que parezcan diferentes, pero en realidad no cambien el significado de los datos."
      ]
    },
    {
      "cell_type": "code",
      "execution_count": null,
      "metadata": {
        "colab": {
          "base_uri": "https://localhost:8080/",
          "height": 514
        },
        "id": "578UV68ttW1P",
        "outputId": "5279cd21-863a-4337-9945-3ccd6a77f3aa"
      },
      "outputs": [],
      "source": [
        "dogs = dogs.new(\n",
        "        item_tfms=RandomResizedCrop(224, min_scale=0.5),\n",
        "        batch_tfms=aug_transforms(mult=2)\n",
        "        )\n",
        "dls = dogs.dataloaders(path)\n",
        "dls.train.show_batch(max_n=8, nrows=2, unique=True)"
      ]
    },
    {
      "cell_type": "markdown",
      "metadata": {
        "id": "9t3Fiucg4Ugu"
      },
      "source": [
        "## Step 3: Training Your Model, and Using It to Clean Your Data"
      ]
    },
    {
      "cell_type": "markdown",
      "metadata": {
        "id": "bdeYIwz_rMNJ"
      },
      "source": [
        "Ahora veamos si los errores que comete el modelo son principalmente pensar que los osos pardos son ositos de peluche (¡eso sería malo para la seguridad!), o que los osos pardos son osos negros, o algo más. Para visualizar esto, podemos crear una matriz de confusión:"
      ]
    },
    {
      "cell_type": "code",
      "execution_count": null,
      "metadata": {
        "id": "TrUt7ibQJTFZ"
      },
      "outputs": [],
      "source": [
        "dogs = dogs.new(\n",
        "    item_tfms=RandomResizedCrop(224, min_scale=0.5),\n",
        "    batch_tfms=aug_transforms())\n",
        "dls = dogs.dataloaders(path)"
      ]
    },
    {
      "cell_type": "code",
      "execution_count": null,
      "metadata": {
        "colab": {
          "base_uri": "https://localhost:8080/",
          "height": 308
        },
        "id": "YRyJM_5Z4YoN",
        "outputId": "85590094-7c73-4a3d-dc22-bfbe1a404b3a"
      },
      "outputs": [],
      "source": [
        "learn = cnn_learner(dls, resnet18, metrics=error_rate)\n",
        "learn.fine_tune(4)"
      ]
    },
    {
      "cell_type": "markdown",
      "metadata": {
        "id": "ZIsgm-uHsQOo"
      },
      "source": [
        "Ahora veamos si los errores que comete el modelo son principalmente pensar que los pastores alemanes son labradores, o que los labradores son perros negros, o algo más. Para visualizar esto, podemos crear una matriz de confusión:"
      ]
    },
    {
      "cell_type": "code",
      "execution_count": null,
      "metadata": {
        "colab": {
          "base_uri": "https://localhost:8080/",
          "height": 504
        },
        "id": "oLnJ7yBm49JC",
        "outputId": "4beb152f-db0e-4701-d0d8-039d54df3e87"
      },
      "outputs": [],
      "source": [
        "from fastai.vision.widgets import *\n",
        "interp = ClassificationInterpretation.from_learner(learn)\n",
        "interp.plot_confusion_matrix()"
      ]
    },
    {
      "cell_type": "markdown",
      "metadata": {
        "id": "ii4589NtsyeT"
      },
      "source": [
        "\n",
        "Las filas representan todos los perros black, german y labrador de nuestro conjunto de datos, respectivamente. Las columnas representan las imágenes que el modelo predijo como perros black, german y labrador, respectivamente. Por lo tanto, la diagonal de la matriz muestra las imágenes que se clasificaron correctamente y las celdas fuera de la diagonal representan aquellas que se clasificaron incorrectamente."
      ]
    },
    {
      "cell_type": "markdown",
      "metadata": {
        "id": "vvvXl-ILtJoL"
      },
      "source": [
        "Es útil ver dónde ocurren exactamente nuestros errores, ver si se deben a un problema del conjunto de datos (por ejemplo, imágenes que no son perros en absoluto o están etiquetadas incorrectamente, etc.) o a un problema de modelo (quizás no maneja imágenes tomadas con iluminación inusual, o desde un ángulo diferente, etc.). Para ello, podemos ordenar nuestras imágenes por su pérdida.\n",
        "\n",
        "La pérdida es un número que es mayor si el modelo es incorrecto (especialmente si también confía en su respuesta incorrecta), o si es correcto, pero no confía en su respuesta correcta. En un par de capítulos aprenderemos en profundidad cómo se calcula y utiliza la pérdida en el proceso de capacitación. Por ahora, plot_top_losses nos muestra las imágenes con mayor pérdida en nuestro conjunto de datos. Como dice el título del resultado, cada imagen está etiquetada con cuatro cosas: predicción, real (etiqueta de destino), pérdida y probabilidad. La probabilidad aquí es el nivel de confianza, de cero a uno, que el modelo ha asignado a su predicción:"
      ]
    },
    {
      "cell_type": "code",
      "execution_count": null,
      "metadata": {
        "colab": {
          "base_uri": "https://localhost:8080/",
          "height": 819
        },
        "id": "zxBlsDTn5Qnv",
        "outputId": "d41a8113-3b93-4693-e88b-bda536fa375b"
      },
      "outputs": [],
      "source": [
        "interp.plot_top_losses(6, nrows=3)"
      ]
    },
    {
      "cell_type": "markdown",
      "metadata": {
        "id": "U7D6rz9Ntg8i"
      },
      "source": [
        "Este resultado muestra que la imagen con mayor pérdida es aquella que se ha predicho como \"labrador\" con alta confianza. Sin embargo, está etiquetado (según nuestra búsqueda de imágenes en Bing) como \"negro\". No somos expertos en perros, ¡pero seguro que nos parece que esta etiqueta es incorrecta! Probablemente deberíamos cambiar su etiqueta a \"labrardor\".\n",
        "\n",
        "El enfoque intuitivo para realizar la limpieza de datos es hacerlo antes de entrenar un modelo. Pero, como ha visto en este caso, un modelo puede ayudarle a encontrar problemas de datos de forma más rápida y sencilla. Por lo tanto, normalmente preferimos entrenar primero un modelo rápido y simple y luego usarlo para ayudarnos con la limpieza de datos."
      ]
    },
    {
      "cell_type": "markdown",
      "metadata": {
        "id": "WmjKf39lrVMM"
      },
      "source": [
        "Cada imagen está etiquetada con cuatro cosas: predicción, real (target label), pérdida y probabilidad.\n",
        "La probabilidad aquí es el nivel de confianza, de cero a uno, que el modelo ha asignado a su predicción"
      ]
    },
    {
      "cell_type": "markdown",
      "metadata": {
        "id": "_GotWq7Mt1oG"
      },
      "source": [
        "### Data cleaning"
      ]
    },
    {
      "cell_type": "markdown",
      "metadata": {
        "id": "Zyuyq0iJuI9i"
      },
      "source": [
        "fastai incluye una práctica GUI para la limpieza de datos llamada ImageClassifierCleaner que le permite elegir una categoría y el conjunto de entrenamiento versus validación y ver las imágenes con mayor pérdida (en orden), junto con menús que permiten seleccionar imágenes para eliminarlas o volver a etiquetarlas:"
      ]
    },
    {
      "cell_type": "code",
      "execution_count": null,
      "metadata": {
        "id": "AMqsSpN6t6vx"
      },
      "outputs": [],
      "source": [
        "#hide_output\n",
        "cleaner = ImageClassifierCleaner(learn)\n",
        "cleaner"
      ]
    },
    {
      "cell_type": "markdown",
      "metadata": {
        "id": "OQiJh9mnuYcX"
      },
      "source": [
        "Entonces, por ejemplo, para eliminar (desvincular) todas las imágenes seleccionadas para su eliminación, ejecutaríamos:\n",
        "\n",
        "- for idx in cleaner.delete(): cleaner.fns[idx].unlink()\n",
        "\n",
        "Para mover imágenes para las que hemos seleccionado una categoría diferente, ejecutaríamos:\n",
        "\n",
        "- for idx,cat in cleaner.change(): shutil.move(str(cleaner.fns[idx]), path/cat)"
      ]
    },
    {
      "cell_type": "code",
      "execution_count": null,
      "metadata": {
        "id": "Zb3ueKl6uY2j"
      },
      "outputs": [],
      "source": [
        "#hide\n",
        "# for idx in cleaner.delete(): cleaner.fns[idx].unlink()\n",
        "# for idx,cat in cleaner.change(): shutil.move(str(cleaner.fns[idx]), path/cat)"
      ]
    },
    {
      "cell_type": "markdown",
      "metadata": {
        "id": "03RHG7m3wrXv"
      },
      "source": [
        "Una vez que hayamos limpiado nuestros datos, podemos volver a entrenar nuestro modelo."
      ]
    },
    {
      "cell_type": "markdown",
      "metadata": {
        "id": "W7VYtgFP6A22"
      },
      "source": [
        "## Step 4: How to Export the Trained Model"
      ]
    },
    {
      "cell_type": "code",
      "execution_count": null,
      "metadata": {
        "colab": {
          "base_uri": "https://localhost:8080/"
        },
        "id": "AL9KTK2g6CUO",
        "outputId": "b771db5c-aaaf-42b8-d3be-f8e3f86e76d5"
      },
      "outputs": [],
      "source": [
        "learn.export()\n",
        "path = Path()\n",
        "path.ls(file_exts='.pkl')"
      ]
    },
    {
      "cell_type": "code",
      "execution_count": null,
      "metadata": {
        "id": "utuv11ws6GD4"
      },
      "outputs": [],
      "source": [
        "model_inf = load_learner(path/'export.pkl')"
      ]
    },
    {
      "cell_type": "code",
      "execution_count": null,
      "metadata": {
        "colab": {
          "base_uri": "https://localhost:8080/",
          "height": 34
        },
        "id": "clIvQjOd6Ire",
        "outputId": "b4bb30b5-5bae-4e3c-86e6-9ba41d0d024d"
      },
      "outputs": [],
      "source": [
        "model_inf.predict('/content/dogs/black/044331f5-3c7d-4cd0-908c-b1ee4911b9c9.jpg')"
      ]
    },
    {
      "cell_type": "code",
      "execution_count": null,
      "metadata": {
        "colab": {
          "base_uri": "https://localhost:8080/"
        },
        "id": "vdpBnYsE6KUK",
        "outputId": "8d3657e2-6407-47a1-c82e-2fa46e12b61c"
      },
      "outputs": [],
      "source": [
        "model_inf.dls.vocab"
      ]
    }
  ],
  "metadata": {
    "colab": {
      "provenance": []
    },
    "kernelspec": {
      "display_name": "Python 3",
      "language": "python",
      "name": "python3"
    },
    "language_info": {
      "codemirror_mode": {
        "name": "ipython",
        "version": 3
      },
      "file_extension": ".py",
      "mimetype": "text/x-python",
      "name": "python",
      "nbconvert_exporter": "python",
      "pygments_lexer": "ipython3",
      "version": "3.11.2"
    },
    "vscode": {
      "interpreter": {
        "hash": "173ae74ecd759d33659dc89cc0ace91dba90ddaa088b7a848a7f37d845ddcc5d"
      }
    }
  },
  "nbformat": 4,
  "nbformat_minor": 0
}
